{
  "cells": [
    {
      "cell_type": "code",
      "source": [
        "\n",
        "# A Python3 program to find if 2 given line segments intersect or not\n",
        "  \n",
        "class Point:\n",
        "    def __init__(self, x, y):\n",
        "        self.x = x\n",
        "        self.y = y\n",
        "  \n",
        "# Given three collinear points p, q, r, the function checks if \n",
        "# point q lies on line segment 'pr' \n",
        "def onSegment(p, q, r):\n",
        "    if ( (q.x <= max(p.x, r.x)) and (q.x >= min(p.x, r.x)) and \n",
        "           (q.y <= max(p.y, r.y)) and (q.y >= min(p.y, r.y))):\n",
        "        return True\n",
        "    return False\n",
        "  \n",
        "def orientation(p, q, r):\n",
        "    # to find the orientation of an ordered triplet (p,q,r)\n",
        "    # function returns the following values:\n",
        "    # 0 : Collinear points\n",
        "    # 1 : Clockwise points\n",
        "    # 2 : Counterclockwise\n",
        "      \n",
        "    # See https://www.geeksforgeeks.org/orientation-3-ordered-points/amp/ \n",
        "    # for details of below formula. \n",
        "      \n",
        "    val = (float(q.y - p.y) * (r.x - q.x)) - (float(q.x - p.x) * (r.y - q.y))\n",
        "    if (val > 0):\n",
        "          \n",
        "        # Clockwise orientation\n",
        "        return 1\n",
        "    elif (val < 0):\n",
        "          \n",
        "        # Counterclockwise orientation\n",
        "        return 2\n",
        "    else:\n",
        "          \n",
        "        # Collinear orientation\n",
        "        return 0\n",
        "  \n",
        "# The main function that returns true if \n",
        "# the line segment 'p1q1' and 'p2q2' intersect.\n",
        "def doIntersect(p1,q1,p2,q2):\n",
        "      \n",
        "    # Find the 4 orientations required for \n",
        "    # the general and special cases\n",
        "    o1 = orientation(p1, q1, p2)\n",
        "    o2 = orientation(p1, q1, q2)\n",
        "    o3 = orientation(p2, q2, p1)\n",
        "    o4 = orientation(p2, q2, q1)\n",
        "  \n",
        "    # General case\n",
        "    if ((o1 != o2) and (o3 != o4)):\n",
        "        return True\n",
        "  \n",
        "    # Special Cases\n",
        "  \n",
        "    # p1 , q1 and p2 are collinear and p2 lies on segment p1q1\n",
        "    if ((o1 == 0) and onSegment(p1, p2, q1)):\n",
        "        return True\n",
        "  \n",
        "    # p1 , q1 and q2 are collinear and q2 lies on segment p1q1\n",
        "    if ((o2 == 0) and onSegment(p1, q2, q1)):\n",
        "        return True\n",
        "  \n",
        "    # p2 , q2 and p1 are collinear and p1 lies on segment p2q2\n",
        "    if ((o3 == 0) and onSegment(p2, p1, q2)):\n",
        "        return True\n",
        "  \n",
        "    # p2 , q2 and q1 are collinear and q1 lies on segment p2q2\n",
        "    if ((o4 == 0) and onSegment(p2, q1, q2)):\n",
        "        return True\n",
        "  \n",
        "    # If none of the cases\n",
        "    return False\n",
        "  "
      ],
      "metadata": {
        "id": "52WNq_5GShOF"
      },
      "execution_count": null,
      "outputs": []
    },
    {
      "cell_type": "code",
      "source": [
        "from google.colab import drive\n",
        "drive.mount('/content/drive')"
      ],
      "metadata": {
        "id": "cIHNFs2VLCkH",
        "outputId": "956b1788-ccea-4689-f786-2de6d57cef6b",
        "colab": {
          "base_uri": "https://localhost:8080/"
        }
      },
      "execution_count": null,
      "outputs": [
        {
          "output_type": "stream",
          "name": "stdout",
          "text": [
            "Mounted at /content/drive\n"
          ]
        }
      ]
    },
    {
      "cell_type": "code",
      "source": [
        "!unzip -q \"/content/drive/MyDrive/Cable Training Data/result_old_new_weights.zip\""
      ],
      "metadata": {
        "id": "zVmSAE2_LN_B",
        "outputId": "d6bdf234-5807-44ea-f488-bfa8b1dfce42",
        "colab": {
          "base_uri": "https://localhost:8080/"
        }
      },
      "execution_count": null,
      "outputs": [
        {
          "output_type": "stream",
          "name": "stdout",
          "text": [
            "wire_predicted_poles_old_weights_full_res/149 Bunkers Hill - Google Maps and 2 more pages - Person 1 - Microsoftâ€‹ Edge 10-02-2023 15_02_31.tiff.jpeg:  mismatching \"local\" filename (wire_predicted_poles_old_weights_full_res/149 Bunkers Hill - Google Maps and 2 more pages - Person 1 - Microsoft├втВмтА╣ Edge 10-02-2023 15_02_31.tiff.jpeg),\n",
            "         continuing with \"central\" filename version\n",
            "wire_predicted_poles_old_weights_full_res/159 Bunkers Hill - Google Maps and 2 more pages - Person 1 - Microsoftâ€‹ Edge 10-02-2023 15_00_19.tiff.jpeg:  mismatching \"local\" filename (wire_predicted_poles_old_weights_full_res/159 Bunkers Hill - Google Maps and 2 more pages - Person 1 - Microsoft├втВмтА╣ Edge 10-02-2023 15_00_19.tiff.jpeg),\n",
            "         continuing with \"central\" filename version\n",
            "wire_predicted_ploes_old_weights/149 Bunkers Hill - Google Maps and 2 more pages - Person 1 - Microsoftâ€‹ Edge 10-02-2023 15_02_31.tiff.jpeg:  mismatching \"local\" filename (wire_predicted_ploes_old_weights/149 Bunkers Hill - Google Maps and 2 more pages - Person 1 - Microsoft├втВмтА╣ Edge 10-02-2023 15_02_31.tiff.jpeg),\n",
            "         continuing with \"central\" filename version\n",
            "wire_predicted_ploes_old_weights/159 Bunkers Hill - Google Maps and 2 more pages - Person 1 - Microsoftâ€‹ Edge 10-02-2023 15_00_19.tiff.jpeg:  mismatching \"local\" filename (wire_predicted_ploes_old_weights/159 Bunkers Hill - Google Maps and 2 more pages - Person 1 - Microsoft├втВмтА╣ Edge 10-02-2023 15_00_19.tiff.jpeg),\n",
            "         continuing with \"central\" filename version\n",
            "wire_predicted_poles_new_weight/149 Bunkers Hill - Google Maps and 2 more pages - Person 1 - Microsoftâ€‹ Edge 10-02-2023 15_02_31.tiff.jpeg:  mismatching \"local\" filename (wire_predicted_poles_new_weight/149 Bunkers Hill - Google Maps and 2 more pages - Person 1 - Microsoft├втВмтА╣ Edge 10-02-2023 15_02_31.tiff.jpeg),\n",
            "         continuing with \"central\" filename version\n",
            "wire_predicted_poles_new_weight/159 Bunkers Hill - Google Maps and 2 more pages - Person 1 - Microsoftâ€‹ Edge 10-02-2023 15_00_19.tiff.jpeg:  mismatching \"local\" filename (wire_predicted_poles_new_weight/159 Bunkers Hill - Google Maps and 2 more pages - Person 1 - Microsoft├втВмтА╣ Edge 10-02-2023 15_00_19.tiff.jpeg),\n",
            "         continuing with \"central\" filename version\n",
            "wire_predicted_poles_new_weights_full_res/149 Bunkers Hill - Google Maps and 2 more pages - Person 1 - Microsoftâ€‹ Edge 10-02-2023 15_02_31.tiff.jpeg:  mismatching \"local\" filename (wire_predicted_poles_new_weights_full_res/149 Bunkers Hill - Google Maps and 2 more pages - Person 1 - Microsoft├втВмтА╣ Edge 10-02-2023 15_02_31.tiff.jpeg),\n",
            "         continuing with \"central\" filename version\n",
            "wire_predicted_poles_new_weights_full_res/159 Bunkers Hill - Google Maps and 2 more pages - Person 1 - Microsoftâ€‹ Edge 10-02-2023 15_00_19.tiff.jpeg:  mismatching \"local\" filename (wire_predicted_poles_new_weights_full_res/159 Bunkers Hill - Google Maps and 2 more pages - Person 1 - Microsoft├втВмтА╣ Edge 10-02-2023 15_00_19.tiff.jpeg),\n",
            "         continuing with \"central\" filename version\n"
          ]
        }
      ]
    },
    {
      "cell_type": "code",
      "execution_count": null,
      "metadata": {
        "colab": {
          "base_uri": "https://localhost:8080/",
          "height": 286
        },
        "id": "MFpd-dOd4pWl",
        "outputId": "991a2242-326d-4816-92e2-59cd0646cf72"
      },
      "outputs": [
        {
          "output_type": "execute_result",
          "data": {
            "text/plain": [
              "<matplotlib.image.AxesImage at 0x7fb66b85c970>"
            ]
          },
          "metadata": {},
          "execution_count": 100
        },
        {
          "output_type": "display_data",
          "data": {
            "text/plain": [
              "<Figure size 432x288 with 1 Axes>"
            ],
            "image/png": "[encoded data removed]"
          },
          "metadata": {
            "needs_background": "light"
          }
        }
      ],
      "source": [
        "# -*- coding: utf-8 -*-\n",
        "\"\"\"cable_correction.ipynb\n",
        "\n",
        "Automatically generated by Colaboratory.\n",
        "\n",
        "Original file is located at\n",
        "    https://colab.research.google.com/drive/1dCpSyPnr3mOi8u8HxXmccu0oy3JX5nYN\n",
        "\"\"\"\n",
        "\n",
        "import cv2\n",
        "import numpy as np\n",
        "\n",
        "import matplotlib.pyplot as plt\n",
        "\n",
        "im = cv2.imread('/content/wire_predicted_poles_new_weight/149 Bunkers Hill - Google Maps - Google Chrome 17-02-2023 16_44_07.tiff.jpeg')\n",
        "plt.imshow(im)\n",
        "\n",
        "im.shape[:-1]\n",
        "\n",
        "height,width = im.shape[:-1]\n",
        "\n",
        "skel = np.zeros([height, width], dtype=np.uint8)\n",
        "test = skel.copy()\n",
        "\n",
        "edges = cv2.Canny(im, 50, 150)\n",
        "lsd = cv2.createLineSegmentDetector(0)\n",
        "lines = lsd.detect(edges)[0]\n",
        "lines = lines[:, 0]\n",
        "drawn_img = lsd.drawSegments(skel,lines)\n",
        "plt.imshow(drawn_img)\n",
        "\n",
        "line_t = []\n",
        "for line in lines:\n",
        "    dx = line[2] - line[0]\n",
        "    dy = line[3] - line[1]\n",
        "    # print(dy)\n",
        "    length = np.sqrt(dx * dx + dy * dy)\n",
        "    # print('length: ',length)\n",
        "    if(length>50):\n",
        "        line_t.append(line)\n",
        "line_t = np.array(line_t)\n",
        "test_img = lsd.drawSegments(test,line_t)\n",
        "plt.imshow(test_img)\n",
        "\n"
      ]
    },
    {
      "cell_type": "code",
      "source": [
        "k = []\n",
        "for line in line_t:\n",
        "    p1,p2 = (line[:-2],line[2:])\n",
        "    m = (p2[1]-p1[1])/(p2[0]-p1[0])\n",
        "    k.append([m,p1[0],p1[1],p2[0],p2[1]])\n",
        "print(k)"
      ],
      "metadata": {
        "colab": {
          "base_uri": "https://localhost:8080/"
        },
        "id": "Nwurr4BnEwOm",
        "outputId": "c737561f-cb5f-4a4b-b72f-af9fd5522a19"
      },
      "execution_count": null,
      "outputs": [
        {
          "output_type": "stream",
          "name": "stdout",
          "text": [
            "[[-0.40545467, 198.03113, 121.643486, 86.38307, 166.91171], [-0.4021587, 69.14042, 176.29169, 201.36832, 123.11508], [-0.3721849, 48.882687, 183.05223, 0.34321445, 201.11789], [-0.38019177, 208.05905, 124.201546, 131.88866, 153.1609], [-0.40130484, 24.528524, 199.75757, 206.77339, 126.62182], [-0.37842575, 2.9820726, 202.74731, 51.831955, 184.26126], [-0.3928199, 80.79907, 174.81815, 10.798189, 202.31589], [87.5851, 4.0104647, 79.36489, 3.2254531, 10.609581], [659.22296, 1.4059922, 16.873816, 1.4989043, 78.12367]]\n"
          ]
        }
      ]
    },
    {
      "cell_type": "code",
      "source": [
        "#Getting the slopes and the number of lines which have that slope\n",
        "\n",
        "p_l = []\n",
        "for i in range(len(k)):\n",
        "    pointer = 0\n",
        "    m = k[i][0]\n",
        "    for j in range(i+1,len(k)):\n",
        "        if(abs(k[j][0]-m)<0.009):\n",
        "            print(m,k[j][0])\n",
        "            pointer = pointer + 1\n",
        "    p_l.append([k[i][0],pointer])\n",
        "print(p_l)"
      ],
      "metadata": {
        "colab": {
          "base_uri": "https://localhost:8080/"
        },
        "id": "euvhzl3-JgOR",
        "outputId": "f70fd2ae-ba37-445b-c289-c180e0081586"
      },
      "execution_count": null,
      "outputs": [
        {
          "output_type": "stream",
          "name": "stdout",
          "text": [
            "-0.40545467 -0.4021587\n",
            "-0.40545467 -0.40130484\n",
            "-0.4021587 -0.40130484\n",
            "-0.3721849 -0.38019177\n",
            "-0.3721849 -0.37842575\n",
            "-0.38019177 -0.37842575\n",
            "-0.40130484 -0.3928199\n",
            "[[-0.40545467, 2], [-0.4021587, 1], [-0.3721849, 2], [-0.38019177, 1], [-0.40130484, 1], [-0.37842575, 0], [-0.3928199, 0], [87.5851, 0], [659.22296, 0]]\n"
          ]
        }
      ]
    },
    {
      "cell_type": "code",
      "source": [
        "#Getting the whole line equation for the lines which have similar slopes\n",
        "\n",
        "p = []\n",
        "check = []\n",
        "for i in range(len(k)):\n",
        "  for j in range(i+1,len(k)):\n",
        "      if(abs(k[i][0]-k[j][0])<=0.009):\n",
        "          print(k[i],k[j])\n",
        "          p.append([(k[i][1]-k[i][3]),(k[i][2]-k[i][4]),(k[i][1]+k[j][1])/2,(k[i][2]+k[j][2])/2,(k[i][3]+k[j][3])/2,(k[i][4]+k[j][4])/2,k[i][0]])\n",
        "            \n",
        "print(p)"
      ],
      "metadata": {
        "colab": {
          "base_uri": "https://localhost:8080/"
        },
        "id": "DOAwP-ceJ9XO",
        "outputId": "3d24b419-202e-407c-f60f-46628f27e8d9"
      },
      "execution_count": null,
      "outputs": [
        {
          "output_type": "stream",
          "name": "stdout",
          "text": [
            "[-0.40545467, 198.03113, 121.643486, 86.38307, 166.91171] [-0.4021587, 69.14042, 176.29169, 201.36832, 123.11508]\n",
            "[-0.40545467, 198.03113, 121.643486, 86.38307, 166.91171] [-0.40130484, 24.528524, 199.75757, 206.77339, 126.62182]\n",
            "[-0.4021587, 69.14042, 176.29169, 201.36832, 123.11508] [-0.40130484, 24.528524, 199.75757, 206.77339, 126.62182]\n",
            "[-0.3721849, 48.882687, 183.05223, 0.34321445, 201.11789] [-0.38019177, 208.05905, 124.201546, 131.88866, 153.1609]\n",
            "[-0.3721849, 48.882687, 183.05223, 0.34321445, 201.11789] [-0.37842575, 2.9820726, 202.74731, 51.831955, 184.26126]\n",
            "[-0.38019177, 208.05905, 124.201546, 131.88866, 153.1609] [-0.37842575, 2.9820726, 202.74731, 51.831955, 184.26126]\n",
            "[-0.40130484, 24.528524, 199.75757, 206.77339, 126.62182] [-0.3928199, 80.79907, 174.81815, 10.798189, 202.31589]\n",
            "[[111.648056, -45.268227, 133.5857696533203, 148.96759033203125, 143.87570190429688, 145.01339721679688, -0.40545467], [111.648056, -45.268227, 111.27982330322266, 160.70053100585938, 146.57823181152344, 146.7667694091797, -0.40545467], [-132.2279, 53.176605, 46.83447265625, 188.02462768554688, 204.07086181640625, 124.86845397949219, -0.4021587], [48.53947, -18.065659, 128.4708709716797, 153.62689208984375, 66.11593627929688, 177.139404296875, -0.3721849], [48.53947, -18.065659, 25.9323787689209, 192.8997802734375, 26.08758544921875, 192.6895751953125, -0.3721849], [76.170395, -28.959358, 105.52056121826172, 163.47442626953125, 91.86030578613281, 168.71109008789062, -0.38019177], [-182.24487, 73.13575, 52.66379928588867, 187.28785705566406, 108.7857894897461, 164.46885681152344, -0.40130484]]\n"
          ]
        }
      ]
    },
    {
      "cell_type": "code",
      "source": [
        "p = np.array(p)"
      ],
      "metadata": {
        "id": "Jwi5CCwrLkA-"
      },
      "execution_count": null,
      "outputs": []
    },
    {
      "cell_type": "code",
      "source": [
        "(p)"
      ],
      "metadata": {
        "colab": {
          "base_uri": "https://localhost:8080/"
        },
        "id": "kjCNppocL_Ex",
        "outputId": "be4569c9-c434-4089-ca07-cf19b658d3a3"
      },
      "execution_count": null,
      "outputs": [
        {
          "output_type": "execute_result",
          "data": {
            "text/plain": [
              "array([[ 111.64805603,  -45.26822662,  133.58576965,  148.96759033,\n",
              "         143.8757019 ,  145.01339722,   -0.40545467],\n",
              "       [ 111.64805603,  -45.26822662,  111.2798233 ,  160.70053101,\n",
              "         146.57823181,  146.76676941,   -0.40545467],\n",
              "       [-132.22790527,   53.17660522,   46.83447266,  188.02462769,\n",
              "         204.07086182,  124.86845398,   -0.40215871],\n",
              "       [  48.53947067,  -18.06565857,  128.47087097,  153.62689209,\n",
              "          66.11593628,  177.1394043 ,   -0.3721849 ],\n",
              "       [  48.53947067,  -18.06565857,   25.93237877,  192.89978027,\n",
              "          26.08758545,  192.6895752 ,   -0.3721849 ],\n",
              "       [  76.1703949 ,  -28.95935822,  105.52056122,  163.47442627,\n",
              "          91.86030579,  168.71109009,   -0.38019177],\n",
              "       [-182.24487305,   73.13574982,   52.66379929,  187.28785706,\n",
              "         108.78578949,  164.46885681,   -0.40130484]])"
            ]
          },
          "metadata": {},
          "execution_count": 91
        }
      ]
    },
    {
      "cell_type": "code",
      "source": [
        "#Line Extension\n",
        "\n",
        "def extend_line(op1,op2,p1, p2, distance=300):\n",
        "\n",
        "    diff = np.arctan2(op2,op1)\n",
        "    p3_x = int(p1[0] + distance*np.cos(diff))\n",
        "    p3_y = int(p1[1] + distance*np.sin(diff))\n",
        "    p4_x = int(p1[0] - distance*np.cos(diff))\n",
        "    p4_y = int(p1[1] - distance*np.sin(diff))\n",
        "    return ((p3_x, p3_y), (p4_x, p4_y))\n",
        "def slope(p1,p2):\n",
        "  return (p2[1]-p1[1])/(p2[0]-p1[0])"
      ],
      "metadata": {
        "id": "mmp_Y2YUNP5q"
      },
      "execution_count": null,
      "outputs": []
    },
    {
      "cell_type": "code",
      "source": [
        "p1 = [-196.23233032,  -11.55019379,  144.31420898,   99.72168732,\n",
        "         131.81178284,   98.5201416 ]\n",
        "p2 = [ -76.71110535,    8.17134857,  280.00366211,  124.3765564 ,\n",
        "         280.22744751,  124.60595703]\n",
        "test2 = np.zeros([height, width], dtype=np.uint8)\n",
        "ep1,ep2 = extend_line(p1[0],p1[1],(p1[2],p1[3]),(p1[4],p1[5]))\n",
        "final2 = cv2.line(test2, (int(ep1[0]),int(ep1[1])),(int(ep2[0]),int(ep2[1])),(255,0,0), 2)\n",
        "ep1,ep2 = extend_line(p2[0],p2[1],(p2[2],p2[3]),(p2[4],p2[5]))\n",
        "final2 = cv2.line(final2, (int(ep1[0]),int(ep1[1])),(int(ep2[0]),int(ep2[1])),(255,0,0), 2)\n",
        "plt.imshow(final2)\n",
        "pe1 = extend_line(p1[0],p1[1],(p1[2],p1[3]),(p1[4],p1[5]))\n",
        "pe2 = extend_line(p2[0],p2[1],(p2[2],p2[3]),(p2[4],p2[5]))\n",
        "x1 = Point(pe1[0][0],pe1[0][1])\n",
        "x2 = Point(pe1[1][0],pe1[1][1])\n",
        "x3 = Point(pe2[0][0],pe2[0][1])\n",
        "x4 = Point(pe2[1][0],pe2[1][1])\n",
        "if(doIntersect(x1,x2,x3,x4)):\n",
        "  print('Yes')"
      ],
      "metadata": {
        "colab": {
          "base_uri": "https://localhost:8080/",
          "height": 286
        },
        "id": "94rYqRZVPuUL",
        "outputId": "9c31e717-22c2-41be-92d8-b0b5e44db211"
      },
      "execution_count": null,
      "outputs": [
        {
          "output_type": "stream",
          "name": "stdout",
          "text": [
            "Yes\n"
          ]
        },
        {
          "output_type": "display_data",
          "data": {
            "text/plain": [
              "<Figure size 432x288 with 1 Axes>"
            ],
            "image/png": "[encoded data removed]"
          },
          "metadata": {
            "needs_background": "light"
          }
        }
      ]
    },
    {
      "cell_type": "code",
      "source": [
        "l =[]\n",
        "test2 = np.zeros([height, width], dtype=np.uint8)\n",
        "for i in range(len(p)):\n",
        "  # print('point:',p[i])\n",
        "  for j in range(i+1,(len(p)-1)):\n",
        "    # print(p[j])\n",
        "    pe1 = extend_line(p[i][0],p[i][1],(p[i][2],p[i][3]),(p[i][4],p[i][5]))\n",
        "    pe2 = extend_line(p[j][0],p[j][1],(p[j][2],p[j][3]),(p[j][4],p[j][5]))\n",
        "    x1 = Point(pe1[0][0],pe1[0][1])\n",
        "    x2 = Point(pe1[1][0],pe1[1][1])\n",
        "    x3 = Point(pe2[0][0],pe2[0][1])\n",
        "    x4 = Point(pe2[1][0],pe2[1][1]) \n",
        "    # print('for points : ',p[i],p[j])\n",
        "    # print('slope:',abs(p[i][6]-p[j][6]))\n",
        "    if(doIntersect(x1,x2,x3,x4) and abs(p[i][6]-p[j][6])<0.1) :\n",
        "      # print('Yes')\n",
        "      # print(p[i],p[j])\n",
        "      l.append(p[i])\n",
        "      l.append(p[j])\n",
        "      point = (p[i]+p[j])/2 \n",
        "      ep1,ep2 = extend_line(point[0],point[1],(point[2],point[3]),(point[4],point[5]))\n",
        "      finalf = cv2.line(test2, (int(ep1[0]),int(ep1[1])),(int(ep2[0]),int(ep2[1])),(255,0,0), 2)\n",
        "    # else:\n",
        "    #   point = p[i]\n",
        "    #   ep1,ep2 = extend_line(point[0],point[1],(point[2],point[3]),(point[4],point[5]))\n",
        "    #   finalf = cv2.line(finalf, (int(ep1[0]),int(ep1[1])),(int(ep2[0]),int(ep2[1])),(255,0,0), 2)\n",
        "    \n",
        "      # point2 = p[j] \n",
        "      # ep1,ep2 = extend_line(point[0],point[1],(point[2],point[3]),(point[4],point[5]))\n",
        "      # finalf = cv2.line(finali, (int(ep1[0]),int(ep1[1])),(int(ep2[0]),int(ep2[1])),(255,0,0), 2)\n",
        "\n",
        "plt.imshow(finalf)"
      ],
      "metadata": {
        "colab": {
          "base_uri": "https://localhost:8080/",
          "height": 286
        },
        "id": "cOfwYerZNppB",
        "outputId": "b7f19825-3aea-424d-d1e0-c0593b7b3786"
      },
      "execution_count": null,
      "outputs": [
        {
          "output_type": "execute_result",
          "data": {
            "text/plain": [
              "<matplotlib.image.AxesImage at 0x7fb66b62d190>"
            ]
          },
          "metadata": {},
          "execution_count": 94
        },
        {
          "output_type": "display_data",
          "data": {
            "text/plain": [
              "<Figure size 432x288 with 1 Axes>"
            ],
            "image/png": "[encoded data removed]"
          },
          "metadata": {
            "needs_background": "light"
          }
        }
      ]
    },
    {
      "cell_type": "code",
      "source": [
        "l"
      ],
      "metadata": {
        "colab": {
          "base_uri": "https://localhost:8080/"
        },
        "id": "Uqwmc3dAgA5d",
        "outputId": "5cfb1dac-efc3-42a8-a8f7-fff3b0238e06"
      },
      "execution_count": null,
      "outputs": [
        {
          "output_type": "execute_result",
          "data": {
            "text/plain": [
              "[array([111.64805603, -45.26822662, 133.58576965, 148.96759033,\n",
              "        143.8757019 , 145.01339722,  -0.40545467]),\n",
              " array([ 48.53947067, -18.06565857, 128.47087097, 153.62689209,\n",
              "         66.11593628, 177.1394043 ,  -0.3721849 ]),\n",
              " array([111.64805603, -45.26822662, 133.58576965, 148.96759033,\n",
              "        143.8757019 , 145.01339722,  -0.40545467]),\n",
              " array([ 48.53947067, -18.06565857,  25.93237877, 192.89978027,\n",
              "         26.08758545, 192.6895752 ,  -0.3721849 ]),\n",
              " array([111.64805603, -45.26822662, 133.58576965, 148.96759033,\n",
              "        143.8757019 , 145.01339722,  -0.40545467]),\n",
              " array([ 76.1703949 , -28.95935822, 105.52056122, 163.47442627,\n",
              "         91.86030579, 168.71109009,  -0.38019177]),\n",
              " array([111.64805603, -45.26822662, 111.2798233 , 160.70053101,\n",
              "        146.57823181, 146.76676941,  -0.40545467]),\n",
              " array([-132.22790527,   53.17660522,   46.83447266,  188.02462769,\n",
              "         204.07086182,  124.86845398,   -0.40215871]),\n",
              " array([111.64805603, -45.26822662, 111.2798233 , 160.70053101,\n",
              "        146.57823181, 146.76676941,  -0.40545467]),\n",
              " array([ 48.53947067, -18.06565857, 128.47087097, 153.62689209,\n",
              "         66.11593628, 177.1394043 ,  -0.3721849 ]),\n",
              " array([111.64805603, -45.26822662, 111.2798233 , 160.70053101,\n",
              "        146.57823181, 146.76676941,  -0.40545467]),\n",
              " array([ 48.53947067, -18.06565857,  25.93237877, 192.89978027,\n",
              "         26.08758545, 192.6895752 ,  -0.3721849 ]),\n",
              " array([111.64805603, -45.26822662, 111.2798233 , 160.70053101,\n",
              "        146.57823181, 146.76676941,  -0.40545467]),\n",
              " array([ 76.1703949 , -28.95935822, 105.52056122, 163.47442627,\n",
              "         91.86030579, 168.71109009,  -0.38019177]),\n",
              " array([-132.22790527,   53.17660522,   46.83447266,  188.02462769,\n",
              "         204.07086182,  124.86845398,   -0.40215871]),\n",
              " array([ 48.53947067, -18.06565857, 128.47087097, 153.62689209,\n",
              "         66.11593628, 177.1394043 ,  -0.3721849 ]),\n",
              " array([-132.22790527,   53.17660522,   46.83447266,  188.02462769,\n",
              "         204.07086182,  124.86845398,   -0.40215871]),\n",
              " array([ 48.53947067, -18.06565857,  25.93237877, 192.89978027,\n",
              "         26.08758545, 192.6895752 ,  -0.3721849 ]),\n",
              " array([-132.22790527,   53.17660522,   46.83447266,  188.02462769,\n",
              "         204.07086182,  124.86845398,   -0.40215871]),\n",
              " array([ 76.1703949 , -28.95935822, 105.52056122, 163.47442627,\n",
              "         91.86030579, 168.71109009,  -0.38019177]),\n",
              " array([ 48.53947067, -18.06565857, 128.47087097, 153.62689209,\n",
              "         66.11593628, 177.1394043 ,  -0.3721849 ]),\n",
              " array([ 76.1703949 , -28.95935822, 105.52056122, 163.47442627,\n",
              "         91.86030579, 168.71109009,  -0.38019177]),\n",
              " array([ 48.53947067, -18.06565857,  25.93237877, 192.89978027,\n",
              "         26.08758545, 192.6895752 ,  -0.3721849 ]),\n",
              " array([ 76.1703949 , -28.95935822, 105.52056122, 163.47442627,\n",
              "         91.86030579, 168.71109009,  -0.38019177])]"
            ]
          },
          "metadata": {},
          "execution_count": 95
        }
      ]
    },
    {
      "cell_type": "code",
      "source": [
        "nun = []\n",
        "\n",
        "for i in p:\n",
        "  k = 1\n",
        "  for j in l:\n",
        "    if((np.array_equal(i,j))):\n",
        "      k = 0\n",
        "  if(k!=0):\n",
        "    nun.append(i)"
      ],
      "metadata": {
        "id": "pirWh9i1ar4C"
      },
      "execution_count": null,
      "outputs": []
    },
    {
      "cell_type": "code",
      "source": [
        "nun"
      ],
      "metadata": {
        "colab": {
          "base_uri": "https://localhost:8080/"
        },
        "id": "f1h_4yMcg55A",
        "outputId": "64cc3cd3-6a1e-4941-b473-52c14c8900bd"
      },
      "execution_count": null,
      "outputs": [
        {
          "output_type": "execute_result",
          "data": {
            "text/plain": [
              "[array([-182.24487305,   73.13574982,   52.66379929,  187.28785706,\n",
              "         108.78578949,  164.46885681,   -0.40130484])]"
            ]
          },
          "metadata": {},
          "execution_count": 97
        }
      ]
    },
    {
      "cell_type": "code",
      "source": [
        "for point in nun:\n",
        "  ep1,ep2 = extend_line(point[0],point[1],(point[2],point[3]),(point[4],point[5]))\n",
        "  final2 = cv2.line(finalf, (int(ep1[0]),int(ep1[1])),(int(ep2[0]),int(ep2[1])),(255,0,0), 2)\n",
        "plt.imshow(final2)"
      ],
      "metadata": {
        "colab": {
          "base_uri": "https://localhost:8080/",
          "height": 286
        },
        "id": "sPbN1QXnht9n",
        "outputId": "1e2775e3-cd47-498c-b82b-ec95ab1cbc18"
      },
      "execution_count": null,
      "outputs": [
        {
          "output_type": "execute_result",
          "data": {
            "text/plain": [
              "<matplotlib.image.AxesImage at 0x7fb66b72e7f0>"
            ]
          },
          "metadata": {},
          "execution_count": 98
        },
        {
          "output_type": "display_data",
          "data": {
            "text/plain": [
              "<Figure size 432x288 with 1 Axes>"
            ],
            "image/png": "[encoded data removed]"
          },
          "metadata": {
            "needs_background": "light"
          }
        }
      ]
    },
    {
      "cell_type": "markdown",
      "source": [
        "#Everything as a function\n"
      ],
      "metadata": {
        "id": "cAtT1NMGQCPo"
      }
    },
    {
      "cell_type": "code",
      "source": [
        "from google.colab.patches import cv2_imshow\n",
        "import os\n",
        "\n",
        "def extend_line(op1,op2,p1, p2, distance=300):\n",
        "    diff = np.arctan2(op2,op1)\n",
        "    p3_x = int(p1[0] + distance*np.cos(diff))\n",
        "    p3_y = int(p1[1] + distance*np.sin(diff))\n",
        "    p4_x = int(p1[0] - distance*np.cos(diff))\n",
        "    p4_y = int(p1[1] - distance*np.sin(diff))\n",
        "    return ((p3_x, p3_y), (p4_x, p4_y))\n",
        "\n",
        "def slope(p1,p2):\n",
        "  return (p2[1]-p1[1])/(p2[0]-p1[0])\n",
        "\n",
        "\n",
        "def get_lines(im_path,save_path,filename):\n",
        "  im = cv2.imread(im_path)\n",
        "\n",
        "  im.shape[:-1]\n",
        "\n",
        "  height,width = im.shape[:-1]\n",
        "\n",
        "  skel = np.zeros([height, width], dtype=np.uint8)\n",
        "  test = skel.copy()\n",
        "\n",
        "  edges = cv2.Canny(im, 50, 150)\n",
        "  lsd = cv2.createLineSegmentDetector(0)\n",
        "  lines = lsd.detect(edges)[0]\n",
        "  lines = lines[:, 0]\n",
        "  drawn_img = lsd.drawSegments(skel,lines)\n",
        "\n",
        "  line_t = []\n",
        "  for line in lines:\n",
        "      dx = line[2] - line[0]\n",
        "      dy = line[3] - line[1]\n",
        "      # print(dy)\n",
        "      length = np.sqrt(dx * dx + dy * dy)\n",
        "      # print('length: ',length)\n",
        "      if(length>70):\n",
        "          line_t.append(line)\n",
        "  line_t = np.array(line_t)\n",
        "  test_img = lsd.drawSegments(test,line_t)\n",
        "  # cv2_imshow(test_img)\n",
        "  cv2.imwrite(os.path.join(save_path,filename + '_line.jpg'),test_img)\n",
        "  k = []\n",
        "  for line in line_t:\n",
        "      p1,p2 = (line[:-2],line[2:])\n",
        "      m = (p2[1]-p1[1])/(p2[0]-p1[0])\n",
        "      k.append([m,p1[0],p1[1],p2[0],p2[1]])\n",
        "  #print(k)\n",
        "\n",
        "  p_l = []\n",
        "  for i in range(len(k)):\n",
        "      pointer = 0\n",
        "      m = k[i][0]\n",
        "      for j in range(i+1,len(k)):\n",
        "          if(abs(k[j][0]-m)<0.009):\n",
        "              #print(m,k[j][0])\n",
        "              pointer = pointer + 1\n",
        "      p_l.append([k[i][0],pointer])\n",
        "  #print(p_l)\n",
        "\n",
        "  p = []\n",
        "  check = []\n",
        "  for i in range(len(k)):\n",
        "    for j in range(i+1,len(k)):\n",
        "        if(abs(k[i][0]-k[j][0])<=0.009):\n",
        "            #print(k[i],k[j])\n",
        "            p.append([(k[i][1]-k[i][3]),(k[i][2]-k[i][4]),(k[i][1]+k[j][1])/2,(k[i][2]+k[j][2])/2,(k[i][3]+k[j][3])/2,(k[i][4]+k[j][4])/2,k[i][0]])\n",
        "              \n",
        "  #print(p)\n",
        "\n",
        "  p = np.array(p)\n",
        "\n",
        "  l =[]\n",
        "  test2 = np.zeros([height, width], dtype=np.uint8)\n",
        "  for i in range(len(p)):\n",
        "    # print('point:',p[i])\n",
        "    for j in range(i+1,(len(p)-1)):\n",
        "      # print(p[j])\n",
        "      pe1 = extend_line(p[i][0],p[i][1],(p[i][2],p[i][3]),(p[i][4],p[i][5]))\n",
        "      pe2 = extend_line(p[j][0],p[j][1],(p[j][2],p[j][3]),(p[j][4],p[j][5]))\n",
        "      x1 = Point(pe1[0][0],pe1[0][1])\n",
        "      x2 = Point(pe1[1][0],pe1[1][1])\n",
        "      x3 = Point(pe2[0][0],pe2[0][1])\n",
        "      x4 = Point(pe2[1][0],pe2[1][1]) \n",
        "      # print('for points : ',p[i],p[j])\n",
        "      # print('slope:',abs(p[i][6]-p[j][6]))\n",
        "      if(doIntersect(x1,x2,x3,x4) and abs(p[i][6]-p[j][6])<0.1) :\n",
        "        # print('Yes')\n",
        "        # print(p[i],p[j])\n",
        "        l.append(p[i])\n",
        "        l.append(p[j])\n",
        "        point = (p[i]+p[j])/2 \n",
        "        ep1,ep2 = extend_line(point[0],point[1],(point[2],point[3]),(point[4],point[5]))\n",
        "        finalf = cv2.line(test2, (int(ep1[0]),int(ep1[1])),(int(ep2[0]),int(ep2[1])),(255,0,0), 2)\n",
        "      # else:\n",
        "      #   point = p[i]\n",
        "      #   ep1,ep2 = extend_line(point[0],point[1],(point[2],point[3]),(point[4],point[5]))\n",
        "      #   finalf = cv2.line(finalf, (int(ep1[0]),int(ep1[1])),(int(ep2[0]),int(ep2[1])),(255,0,0), 2)\n",
        "      \n",
        "        # point2 = p[j] \n",
        "        # ep1,ep2 = extend_line(point[0],point[1],(point[2],point[3]),(point[4],point[5]))\n",
        "        # finalf = cv2.line(finali, (int(ep1[0]),int(ep1[1])),(int(ep2[0]),int(ep2[1])),(255,0,0), 2)\n",
        "  nun = []\n",
        "  for i in p:\n",
        "    k = 1\n",
        "    for j in l:\n",
        "      if((np.array_equal(i,j))):\n",
        "        k = 0\n",
        "    if(k!=0):\n",
        "      nun.append(i)\n",
        "\n",
        "  for point in nun:\n",
        "    ep1,ep2 = extend_line(point[0],point[1],(point[2],point[3]),(point[4],point[5]))\n",
        "    if 'finalf' in vars():\n",
        "      final2 = cv2.line(finalf, (int(ep1[0]),int(ep1[1])),(int(ep2[0]),int(ep2[1])),(255,0,0), 2)\n",
        "    else:\n",
        "      final2 = cv2.line(test, (int(ep1[0]),int(ep1[1])),(int(ep2[0]),int(ep2[1])),(255,0,0), 2)\n",
        "  cv2.imwrite(os.path.join(save_path,filename + '_mask.jpg'),final2)\n",
        "  "
      ],
      "metadata": {
        "id": "H-XczJ6CQGcX"
      },
      "execution_count": null,
      "outputs": []
    },
    {
      "cell_type": "code",
      "source": [
        "get_lines('/content/wire_predicted_ploes_old_weights/149 Bunkers Hill - Google Maps - Google Chrome 17-02-2023 16_44_30.tiff.jpeg','./','1')"
      ],
      "metadata": {
        "id": "C6Rr2h5ERJfP",
        "outputId": "c14fec83-4da9-4330-8af7-47bb4ef5b265",
        "colab": {
          "base_uri": "https://localhost:8080/",
          "height": 287
        }
      },
      "execution_count": null,
      "outputs": [
        {
          "output_type": "error",
          "ename": "UnboundLocalError",
          "evalue": "ignored",
          "traceback": [
            "\u001b[0;31m---------------------------------------------------------------------------\u001b[0m",
            "\u001b[0;31mUnboundLocalError\u001b[0m                         Traceback (most recent call last)",
            "\u001b[0;32m<ipython-input-166-1eb426d7a1ff>\u001b[0m in \u001b[0;36m<module>\u001b[0;34m\u001b[0m\n\u001b[0;32m----> 1\u001b[0;31m \u001b[0mget_lines\u001b[0m\u001b[0;34m(\u001b[0m\u001b[0;34m'/content/wire_predicted_ploes_old_weights/149 Bunkers Hill - Google Maps - Google Chrome 17-02-2023 16_44_30.tiff.jpeg'\u001b[0m\u001b[0;34m,\u001b[0m\u001b[0;34m'./'\u001b[0m\u001b[0;34m,\u001b[0m\u001b[0;34m'1'\u001b[0m\u001b[0;34m)\u001b[0m\u001b[0;34m\u001b[0m\u001b[0;34m\u001b[0m\u001b[0m\n\u001b[0m",
            "\u001b[0;32m<ipython-input-155-6a14ca1fb05a>\u001b[0m in \u001b[0;36mget_lines\u001b[0;34m(im_path, save_path, filename)\u001b[0m\n\u001b[1;32m    118\u001b[0m     \u001b[0;32melse\u001b[0m\u001b[0;34m:\u001b[0m\u001b[0;34m\u001b[0m\u001b[0;34m\u001b[0m\u001b[0m\n\u001b[1;32m    119\u001b[0m       \u001b[0mfinal2\u001b[0m \u001b[0;34m=\u001b[0m \u001b[0mcv2\u001b[0m\u001b[0;34m.\u001b[0m\u001b[0mline\u001b[0m\u001b[0;34m(\u001b[0m\u001b[0mtest\u001b[0m\u001b[0;34m,\u001b[0m \u001b[0;34m(\u001b[0m\u001b[0mint\u001b[0m\u001b[0;34m(\u001b[0m\u001b[0mep1\u001b[0m\u001b[0;34m[\u001b[0m\u001b[0;36m0\u001b[0m\u001b[0;34m]\u001b[0m\u001b[0;34m)\u001b[0m\u001b[0;34m,\u001b[0m\u001b[0mint\u001b[0m\u001b[0;34m(\u001b[0m\u001b[0mep1\u001b[0m\u001b[0;34m[\u001b[0m\u001b[0;36m1\u001b[0m\u001b[0;34m]\u001b[0m\u001b[0;34m)\u001b[0m\u001b[0;34m)\u001b[0m\u001b[0;34m,\u001b[0m\u001b[0;34m(\u001b[0m\u001b[0mint\u001b[0m\u001b[0;34m(\u001b[0m\u001b[0mep2\u001b[0m\u001b[0;34m[\u001b[0m\u001b[0;36m0\u001b[0m\u001b[0;34m]\u001b[0m\u001b[0;34m)\u001b[0m\u001b[0;34m,\u001b[0m\u001b[0mint\u001b[0m\u001b[0;34m(\u001b[0m\u001b[0mep2\u001b[0m\u001b[0;34m[\u001b[0m\u001b[0;36m1\u001b[0m\u001b[0;34m]\u001b[0m\u001b[0;34m)\u001b[0m\u001b[0;34m)\u001b[0m\u001b[0;34m,\u001b[0m\u001b[0;34m(\u001b[0m\u001b[0;36m255\u001b[0m\u001b[0;34m,\u001b[0m\u001b[0;36m0\u001b[0m\u001b[0;34m,\u001b[0m\u001b[0;36m0\u001b[0m\u001b[0;34m)\u001b[0m\u001b[0;34m,\u001b[0m \u001b[0;36m2\u001b[0m\u001b[0;34m)\u001b[0m\u001b[0;34m\u001b[0m\u001b[0;34m\u001b[0m\u001b[0m\n\u001b[0;32m--> 120\u001b[0;31m   \u001b[0mcv2\u001b[0m\u001b[0;34m.\u001b[0m\u001b[0mimwrite\u001b[0m\u001b[0;34m(\u001b[0m\u001b[0mos\u001b[0m\u001b[0;34m.\u001b[0m\u001b[0mpath\u001b[0m\u001b[0;34m.\u001b[0m\u001b[0mjoin\u001b[0m\u001b[0;34m(\u001b[0m\u001b[0msave_path\u001b[0m\u001b[0;34m,\u001b[0m\u001b[0mfilename\u001b[0m \u001b[0;34m+\u001b[0m \u001b[0;34m'_mask.jpg'\u001b[0m\u001b[0;34m)\u001b[0m\u001b[0;34m,\u001b[0m\u001b[0mfinal2\u001b[0m\u001b[0;34m)\u001b[0m\u001b[0;34m\u001b[0m\u001b[0;34m\u001b[0m\u001b[0m\n\u001b[0m\u001b[1;32m    121\u001b[0m \u001b[0;34m\u001b[0m\u001b[0m\n",
            "\u001b[0;31mUnboundLocalError\u001b[0m: local variable 'final2' referenced before assignment"
          ]
        }
      ]
    },
    {
      "cell_type": "code",
      "source": [
        "#Go through the folders\n",
        "\n",
        "folder_list = ['/content/wire_predicted_ploes_old_weights','/content/wire_predicted_poles_new_weight','/content/wire_predicted_poles_new_weights_full_res','/content/wire_predicted_poles_old_weights_full_res']\n",
        "\n",
        "for folder in folder_list:\n",
        "  for file in os.listdir(folder):\n",
        "    save_path = folder + '_output'\n",
        "    file_path = os.path.join(folder,file)\n",
        "    if not os.path.exists(save_path):\n",
        "      os.mkdir(save_path)\n",
        "    print(file_path)\n",
        "    filename = file.split('.')[0]\n",
        "    get_lines(file_path,save_path,filename)"
      ],
      "metadata": {
        "id": "nHjVfMotclH5",
        "outputId": "34e6dde7-bd39-46f3-a1c9-6526311f526b",
        "colab": {
          "base_uri": "https://localhost:8080/",
          "height": 373
        }
      },
      "execution_count": null,
      "outputs": [
        {
          "output_type": "stream",
          "name": "stdout",
          "text": [
            "/content/wire_predicted_ploes_old_weights/149 Bunkers Hill - Google Maps - Google Chrome 17-02-2023 16_45_55 (2).tiff.jpeg\n",
            "/content/wire_predicted_ploes_old_weights/149 Bunkers Hill - Google Maps - Google Chrome 17-02-2023 16_44_30 (2).tiff.jpeg\n",
            "/content/wire_predicted_ploes_old_weights/91 Bunkers Hill - Google Maps - Google Chrome 17-02-2023 16_47_39.tiff.jpeg\n",
            "/content/wire_predicted_ploes_old_weights/149 Bunkers Hill - Google Maps - Google Chrome 17-02-2023 16_44_30.tiff.jpeg\n"
          ]
        },
        {
          "output_type": "error",
          "ename": "UnboundLocalError",
          "evalue": "ignored",
          "traceback": [
            "\u001b[0;31m---------------------------------------------------------------------------\u001b[0m",
            "\u001b[0;31mUnboundLocalError\u001b[0m                         Traceback (most recent call last)",
            "\u001b[0;32m<ipython-input-165-d9365b3e5795>\u001b[0m in \u001b[0;36m<module>\u001b[0;34m\u001b[0m\n\u001b[1;32m     11\u001b[0m     \u001b[0mprint\u001b[0m\u001b[0;34m(\u001b[0m\u001b[0mfile_path\u001b[0m\u001b[0;34m)\u001b[0m\u001b[0;34m\u001b[0m\u001b[0;34m\u001b[0m\u001b[0m\n\u001b[1;32m     12\u001b[0m     \u001b[0mfilename\u001b[0m \u001b[0;34m=\u001b[0m \u001b[0mfile\u001b[0m\u001b[0;34m.\u001b[0m\u001b[0msplit\u001b[0m\u001b[0;34m(\u001b[0m\u001b[0;34m'.'\u001b[0m\u001b[0;34m)\u001b[0m\u001b[0;34m[\u001b[0m\u001b[0;36m0\u001b[0m\u001b[0;34m]\u001b[0m\u001b[0;34m\u001b[0m\u001b[0;34m\u001b[0m\u001b[0m\n\u001b[0;32m---> 13\u001b[0;31m     \u001b[0mget_lines\u001b[0m\u001b[0;34m(\u001b[0m\u001b[0mfile_path\u001b[0m\u001b[0;34m,\u001b[0m\u001b[0msave_path\u001b[0m\u001b[0;34m,\u001b[0m\u001b[0mfilename\u001b[0m\u001b[0;34m)\u001b[0m\u001b[0;34m\u001b[0m\u001b[0;34m\u001b[0m\u001b[0m\n\u001b[0m",
            "\u001b[0;32m<ipython-input-155-6a14ca1fb05a>\u001b[0m in \u001b[0;36mget_lines\u001b[0;34m(im_path, save_path, filename)\u001b[0m\n\u001b[1;32m    118\u001b[0m     \u001b[0;32melse\u001b[0m\u001b[0;34m:\u001b[0m\u001b[0;34m\u001b[0m\u001b[0;34m\u001b[0m\u001b[0m\n\u001b[1;32m    119\u001b[0m       \u001b[0mfinal2\u001b[0m \u001b[0;34m=\u001b[0m \u001b[0mcv2\u001b[0m\u001b[0;34m.\u001b[0m\u001b[0mline\u001b[0m\u001b[0;34m(\u001b[0m\u001b[0mtest\u001b[0m\u001b[0;34m,\u001b[0m \u001b[0;34m(\u001b[0m\u001b[0mint\u001b[0m\u001b[0;34m(\u001b[0m\u001b[0mep1\u001b[0m\u001b[0;34m[\u001b[0m\u001b[0;36m0\u001b[0m\u001b[0;34m]\u001b[0m\u001b[0;34m)\u001b[0m\u001b[0;34m,\u001b[0m\u001b[0mint\u001b[0m\u001b[0;34m(\u001b[0m\u001b[0mep1\u001b[0m\u001b[0;34m[\u001b[0m\u001b[0;36m1\u001b[0m\u001b[0;34m]\u001b[0m\u001b[0;34m)\u001b[0m\u001b[0;34m)\u001b[0m\u001b[0;34m,\u001b[0m\u001b[0;34m(\u001b[0m\u001b[0mint\u001b[0m\u001b[0;34m(\u001b[0m\u001b[0mep2\u001b[0m\u001b[0;34m[\u001b[0m\u001b[0;36m0\u001b[0m\u001b[0;34m]\u001b[0m\u001b[0;34m)\u001b[0m\u001b[0;34m,\u001b[0m\u001b[0mint\u001b[0m\u001b[0;34m(\u001b[0m\u001b[0mep2\u001b[0m\u001b[0;34m[\u001b[0m\u001b[0;36m1\u001b[0m\u001b[0;34m]\u001b[0m\u001b[0;34m)\u001b[0m\u001b[0;34m)\u001b[0m\u001b[0;34m,\u001b[0m\u001b[0;34m(\u001b[0m\u001b[0;36m255\u001b[0m\u001b[0;34m,\u001b[0m\u001b[0;36m0\u001b[0m\u001b[0;34m,\u001b[0m\u001b[0;36m0\u001b[0m\u001b[0;34m)\u001b[0m\u001b[0;34m,\u001b[0m \u001b[0;36m2\u001b[0m\u001b[0;34m)\u001b[0m\u001b[0;34m\u001b[0m\u001b[0;34m\u001b[0m\u001b[0m\n\u001b[0;32m--> 120\u001b[0;31m   \u001b[0mcv2\u001b[0m\u001b[0;34m.\u001b[0m\u001b[0mimwrite\u001b[0m\u001b[0;34m(\u001b[0m\u001b[0mos\u001b[0m\u001b[0;34m.\u001b[0m\u001b[0mpath\u001b[0m\u001b[0;34m.\u001b[0m\u001b[0mjoin\u001b[0m\u001b[0;34m(\u001b[0m\u001b[0msave_path\u001b[0m\u001b[0;34m,\u001b[0m\u001b[0mfilename\u001b[0m \u001b[0;34m+\u001b[0m \u001b[0;34m'_mask.jpg'\u001b[0m\u001b[0;34m)\u001b[0m\u001b[0;34m,\u001b[0m\u001b[0mfinal2\u001b[0m\u001b[0;34m)\u001b[0m\u001b[0;34m\u001b[0m\u001b[0;34m\u001b[0m\u001b[0m\n\u001b[0m\u001b[1;32m    121\u001b[0m \u001b[0;34m\u001b[0m\u001b[0m\n",
            "\u001b[0;31mUnboundLocalError\u001b[0m: local variable 'final2' referenced before assignment"
          ]
        }
      ]
    }
  ],
  "metadata": {
    "colab": {
      "provenance": []
    },
    "kernelspec": {
      "display_name": "Python 3",
      "name": "python3"
    },
    "language_info": {
      "name": "python"
    }
  },
  "nbformat": 4,
  "nbformat_minor": 0
}